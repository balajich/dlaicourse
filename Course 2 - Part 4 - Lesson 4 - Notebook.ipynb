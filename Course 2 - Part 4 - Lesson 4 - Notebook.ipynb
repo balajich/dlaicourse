{
 "cells": [
  {
   "cell_type": "markdown",
   "metadata": {
    "colab_type": "text",
    "id": "view-in-github"
   },
   "source": [
    "<a href=\"https://colab.research.google.com/github/lmoroney/dlaicourse/blob/master/Course%202%20-%20Part%204%20-%20Lesson%204%20-%20Notebook.ipynb\" target=\"_parent\"><img src=\"https://colab.research.google.com/assets/colab-badge.svg\" alt=\"Open In Colab\"/></a>"
   ]
  },
  {
   "cell_type": "markdown",
   "metadata": {
    "colab_type": "text",
    "id": "rX8mhOLljYeM"
   },
   "source": [
    "##### Copyright 2019 The TensorFlow Authors."
   ]
  },
  {
   "cell_type": "code",
   "execution_count": 0,
   "metadata": {
    "cellView": "form",
    "colab": {},
    "colab_type": "code",
    "id": "BZSlp3DAjdYf"
   },
   "outputs": [],
   "source": [
    "#@title Licensed under the Apache License, Version 2.0 (the \"License\");\n",
    "# you may not use this file except in compliance with the License.\n",
    "# You may obtain a copy of the License at\n",
    "#\n",
    "# https://www.apache.org/licenses/LICENSE-2.0\n",
    "#\n",
    "# Unless required by applicable law or agreed to in writing, software\n",
    "# distributed under the License is distributed on an \"AS IS\" BASIS,\n",
    "# WITHOUT WARRANTIES OR CONDITIONS OF ANY KIND, either express or implied.\n",
    "# See the License for the specific language governing permissions and\n",
    "# limitations under the License."
   ]
  },
  {
   "cell_type": "code",
   "execution_count": 1,
   "metadata": {
    "colab": {},
    "colab_type": "code",
    "id": "RXZT2UsyIVe_"
   },
   "outputs": [],
   "source": [
    "# !wget --no-check-certificate \\\n",
    "#     https://storage.googleapis.com/laurencemoroney-blog.appspot.com/horse-or-human.zip \\\n",
    "#     -O c:/tmp/horse-or-human.zip\n",
    "\n",
    "# !wget --no-check-certificate \\\n",
    "#     https://storage.googleapis.com/laurencemoroney-blog.appspot.com/validation-horse-or-human.zip \\\n",
    "#     -O c:/tmp/validation-horse-or-human.zip\n",
    "  \n",
    "import os\n",
    "import zipfile\n",
    "\n",
    "local_zip = 'c:/tmp/horse-or-human.zip'\n",
    "zip_ref = zipfile.ZipFile(local_zip, 'r')\n",
    "zip_ref.extractall('c:/tmp/horse-or-human')\n",
    "local_zip = 'c:/tmp/validation-horse-or-human.zip'\n",
    "zip_ref = zipfile.ZipFile(local_zip, 'r')\n",
    "zip_ref.extractall('c:/tmp/validation-horse-or-human')\n",
    "zip_ref.close()\n",
    "# Directory with our training horse pictures\n",
    "train_horse_dir = os.path.join('c:/tmp/horse-or-human/horses')\n",
    "\n",
    "# Directory with our training human pictures\n",
    "train_human_dir = os.path.join('c:/tmp/horse-or-human/humans')\n",
    "\n",
    "# Directory with our training horse pictures\n",
    "validation_horse_dir = os.path.join('c:/tmp/validation-horse-or-human/horses')\n",
    "\n",
    "# Directory with our training human pictures\n",
    "validation_human_dir = os.path.join('c:/tmp/validation-horse-or-human/humans')"
   ]
  },
  {
   "cell_type": "markdown",
   "metadata": {
    "colab_type": "text",
    "id": "5oqBkNBJmtUv"
   },
   "source": [
    "## Building a Small Model from Scratch\n",
    "\n",
    "But before we continue, let's start defining the model:\n",
    "\n",
    "Step 1 will be to import tensorflow."
   ]
  },
  {
   "cell_type": "code",
   "execution_count": 2,
   "metadata": {
    "colab": {},
    "colab_type": "code",
    "id": "qvfZg3LQbD-5"
   },
   "outputs": [],
   "source": [
    "import tensorflow as tf"
   ]
  },
  {
   "cell_type": "markdown",
   "metadata": {
    "colab_type": "text",
    "id": "BnhYCP4tdqjC"
   },
   "source": [
    "We then add convolutional layers as in the previous example, and flatten the final result to feed into the densely connected layers."
   ]
  },
  {
   "cell_type": "markdown",
   "metadata": {
    "colab_type": "text",
    "id": "gokG5HKpdtzm"
   },
   "source": [
    "Finally we add the densely connected layers. \n",
    "\n",
    "Note that because we are facing a two-class classification problem, i.e. a *binary classification problem*, we will end our network with a [*sigmoid* activation](https://wikipedia.org/wiki/Sigmoid_function), so that the output of our network will be a single scalar between 0 and 1, encoding the probability that the current image is class 1 (as opposed to class 0)."
   ]
  },
  {
   "cell_type": "code",
   "execution_count": 3,
   "metadata": {
    "colab": {},
    "colab_type": "code",
    "id": "PixZ2s5QbYQ3"
   },
   "outputs": [],
   "source": [
    "model = tf.keras.models.Sequential([\n",
    "    # Note the input shape is the desired size of the image 300x300 with 3 bytes color\n",
    "    # This is the first convolution\n",
    "    tf.keras.layers.Conv2D(16, (3,3), activation='relu', input_shape=(300, 300, 3)),\n",
    "    tf.keras.layers.MaxPooling2D(2, 2),\n",
    "    # The second convolution\n",
    "    tf.keras.layers.Conv2D(32, (3,3), activation='relu'),\n",
    "    tf.keras.layers.MaxPooling2D(2,2),\n",
    "    # The third convolution\n",
    "    tf.keras.layers.Conv2D(64, (3,3), activation='relu'),\n",
    "    tf.keras.layers.MaxPooling2D(2,2),\n",
    "    # The fourth convolution\n",
    "    tf.keras.layers.Conv2D(64, (3,3), activation='relu'),\n",
    "    tf.keras.layers.MaxPooling2D(2,2),\n",
    "    # The fifth convolution\n",
    "    tf.keras.layers.Conv2D(64, (3,3), activation='relu'),\n",
    "    tf.keras.layers.MaxPooling2D(2,2),\n",
    "    # Flatten the results to feed into a DNN\n",
    "    tf.keras.layers.Flatten(),\n",
    "    # 512 neuron hidden layer\n",
    "    tf.keras.layers.Dense(512, activation='relu'),\n",
    "    # Only 1 output neuron. It will contain a value from 0-1 where 0 for 1 class ('horses') and 1 for the other ('humans')\n",
    "    tf.keras.layers.Dense(1, activation='sigmoid')\n",
    "])"
   ]
  },
  {
   "cell_type": "code",
   "execution_count": 4,
   "metadata": {
    "colab": {},
    "colab_type": "code",
    "id": "8DHWhFP_uhq3"
   },
   "outputs": [],
   "source": [
    "from tensorflow.keras.optimizers import RMSprop\n",
    "\n",
    "model.compile(loss='binary_crossentropy',\n",
    "              optimizer=RMSprop(lr=1e-4),\n",
    "              metrics=['accuracy'])"
   ]
  },
  {
   "cell_type": "code",
   "execution_count": 5,
   "metadata": {
    "colab": {},
    "colab_type": "code",
    "id": "ClebU9NJg99G"
   },
   "outputs": [
    {
     "name": "stdout",
     "output_type": "stream",
     "text": [
      "Found 1027 images belonging to 2 classes.\n",
      "Found 256 images belonging to 2 classes.\n"
     ]
    }
   ],
   "source": [
    "from tensorflow.keras.preprocessing.image import ImageDataGenerator\n",
    "\n",
    "# All images will be rescaled by 1./255\n",
    "train_datagen = ImageDataGenerator(\n",
    "      rescale=1./255,\n",
    "      rotation_range=40,\n",
    "      width_shift_range=0.2,\n",
    "      height_shift_range=0.2,\n",
    "      shear_range=0.2,\n",
    "      zoom_range=0.2,\n",
    "      horizontal_flip=True,\n",
    "      fill_mode='nearest')\n",
    "\n",
    "validation_datagen = ImageDataGenerator(rescale=1/255)\n",
    "\n",
    "# Flow training images in batches of 128 using train_datagen generator\n",
    "train_generator = train_datagen.flow_from_directory(\n",
    "        '/tmp/horse-or-human/',  # This is the source directory for training images\n",
    "        target_size=(300, 300),  # All images will be resized to 150x150\n",
    "        batch_size=128,\n",
    "        # Since we use binary_crossentropy loss, we need binary labels\n",
    "        class_mode='binary')\n",
    "\n",
    "# Flow training images in batches of 128 using train_datagen generator\n",
    "validation_generator = validation_datagen.flow_from_directory(\n",
    "        '/tmp/validation-horse-or-human/',  # This is the source directory for training images\n",
    "        target_size=(300, 300),  # All images will be resized to 150x150\n",
    "        batch_size=32,\n",
    "        # Since we use binary_crossentropy loss, we need binary labels\n",
    "        class_mode='binary')"
   ]
  },
  {
   "cell_type": "code",
   "execution_count": 6,
   "metadata": {
    "colab": {},
    "colab_type": "code",
    "id": "Fb1_lgobv81m"
   },
   "outputs": [
    {
     "name": "stdout",
     "output_type": "stream",
     "text": [
      "WARNING:tensorflow:sample_weight modes were coerced from\n",
      "  ...\n",
      "    to  \n",
      "  ['...']\n",
      "WARNING:tensorflow:sample_weight modes were coerced from\n",
      "  ...\n",
      "    to  \n",
      "  ['...']\n",
      "Train for 8 steps, validate for 8 steps\n",
      "Epoch 1/100\n",
      "8/8 [==============================] - 19s 2s/step - loss: 0.6852 - accuracy: 0.4983 - val_loss: 0.6983 - val_accuracy: 0.5000\n",
      "Epoch 2/100\n",
      "8/8 [==============================] - 19s 2s/step - loss: 0.6751 - accuracy: 0.5161 - val_loss: 0.6847 - val_accuracy: 0.5000\n",
      "Epoch 3/100\n",
      "8/8 [==============================] - 19s 2s/step - loss: 0.6596 - accuracy: 0.6340 - val_loss: 0.6954 - val_accuracy: 0.5000\n",
      "Epoch 4/100\n",
      "8/8 [==============================] - 19s 2s/step - loss: 0.6219 - accuracy: 0.6696 - val_loss: 0.7977 - val_accuracy: 0.5000\n",
      "Epoch 5/100\n",
      "8/8 [==============================] - 19s 2s/step - loss: 0.6062 - accuracy: 0.6707 - val_loss: 0.7725 - val_accuracy: 0.5000\n",
      "Epoch 6/100\n",
      "8/8 [==============================] - 19s 2s/step - loss: 0.6274 - accuracy: 0.6496 - val_loss: 0.6829 - val_accuracy: 0.5273\n",
      "Epoch 7/100\n",
      "8/8 [==============================] - 19s 2s/step - loss: 0.5643 - accuracy: 0.7152 - val_loss: 0.6588 - val_accuracy: 0.5547\n",
      "Epoch 8/100\n",
      "8/8 [==============================] - 22s 3s/step - loss: 0.5325 - accuracy: 0.7539 - val_loss: 0.6948 - val_accuracy: 0.5625\n",
      "Epoch 9/100\n",
      "8/8 [==============================] - 18s 2s/step - loss: 0.6015 - accuracy: 0.7141 - val_loss: 0.7352 - val_accuracy: 0.5469\n",
      "Epoch 10/100\n",
      "8/8 [==============================] - 19s 2s/step - loss: 0.5451 - accuracy: 0.7341 - val_loss: 0.7666 - val_accuracy: 0.5469\n",
      "Epoch 11/100\n",
      "8/8 [==============================] - 19s 2s/step - loss: 0.5041 - accuracy: 0.7430 - val_loss: 0.7407 - val_accuracy: 0.5781\n",
      "Epoch 12/100\n",
      "8/8 [==============================] - 19s 2s/step - loss: 0.5324 - accuracy: 0.7564 - val_loss: 0.9015 - val_accuracy: 0.5312\n",
      "Epoch 13/100\n",
      "8/8 [==============================] - 19s 2s/step - loss: 0.5203 - accuracy: 0.7330 - val_loss: 0.8022 - val_accuracy: 0.5742\n",
      "Epoch 14/100\n",
      "8/8 [==============================] - 19s 2s/step - loss: 0.5320 - accuracy: 0.7486 - val_loss: 0.7030 - val_accuracy: 0.6016\n",
      "Epoch 15/100\n",
      "8/8 [==============================] - 19s 2s/step - loss: 0.4144 - accuracy: 0.8065 - val_loss: 0.7587 - val_accuracy: 0.6133\n",
      "Epoch 16/100\n",
      "8/8 [==============================] - 21s 3s/step - loss: 0.5721 - accuracy: 0.7597 - val_loss: 1.5581 - val_accuracy: 0.5000\n",
      "Epoch 17/100\n",
      "8/8 [==============================] - 19s 2s/step - loss: 0.5993 - accuracy: 0.6919 - val_loss: 1.1930 - val_accuracy: 0.5117\n",
      "Epoch 18/100\n",
      "8/8 [==============================] - 19s 2s/step - loss: 0.4608 - accuracy: 0.7953 - val_loss: 1.8032 - val_accuracy: 0.5000\n",
      "Epoch 19/100\n",
      "8/8 [==============================] - 19s 2s/step - loss: 0.5163 - accuracy: 0.7364 - val_loss: 0.8406 - val_accuracy: 0.6016\n",
      "Epoch 20/100\n",
      "8/8 [==============================] - 19s 2s/step - loss: 0.4319 - accuracy: 0.7931 - val_loss: 0.9107 - val_accuracy: 0.6016\n",
      "Epoch 21/100\n",
      "8/8 [==============================] - 21s 3s/step - loss: 0.4333 - accuracy: 0.7969 - val_loss: 1.2768 - val_accuracy: 0.5391\n",
      "Epoch 22/100\n",
      "8/8 [==============================] - 18s 2s/step - loss: 0.4346 - accuracy: 0.7720 - val_loss: 1.0014 - val_accuracy: 0.6016\n",
      "Epoch 23/100\n",
      "8/8 [==============================] - 19s 2s/step - loss: 0.5131 - accuracy: 0.7620 - val_loss: 1.0699 - val_accuracy: 0.5703\n",
      "Epoch 24/100\n",
      "8/8 [==============================] - 19s 2s/step - loss: 0.4748 - accuracy: 0.7909 - val_loss: 1.4339 - val_accuracy: 0.5156\n",
      "Epoch 25/100\n",
      "8/8 [==============================] - 19s 2s/step - loss: 0.3686 - accuracy: 0.8209 - val_loss: 1.8313 - val_accuracy: 0.5117\n",
      "Epoch 26/100\n",
      "8/8 [==============================] - 19s 2s/step - loss: 0.4331 - accuracy: 0.7775 - val_loss: 0.9789 - val_accuracy: 0.6172\n",
      "Epoch 27/100\n",
      "8/8 [==============================] - 19s 2s/step - loss: 0.4982 - accuracy: 0.7853 - val_loss: 1.1805 - val_accuracy: 0.5664\n",
      "Epoch 28/100\n",
      "8/8 [==============================] - 19s 2s/step - loss: 0.3770 - accuracy: 0.8265 - val_loss: 1.2076 - val_accuracy: 0.5898\n",
      "Epoch 29/100\n",
      "8/8 [==============================] - 19s 2s/step - loss: 0.4884 - accuracy: 0.7998 - val_loss: 1.0610 - val_accuracy: 0.6133\n",
      "Epoch 30/100\n",
      "8/8 [==============================] - 19s 2s/step - loss: 0.3640 - accuracy: 0.8576 - val_loss: 2.3506 - val_accuracy: 0.5000\n",
      "Epoch 31/100\n",
      "8/8 [==============================] - 19s 2s/step - loss: 0.5049 - accuracy: 0.7842 - val_loss: 1.1210 - val_accuracy: 0.6055\n",
      "Epoch 32/100\n",
      "8/8 [==============================] - 19s 2s/step - loss: 0.3451 - accuracy: 0.8331 - val_loss: 1.2957 - val_accuracy: 0.5977\n",
      "Epoch 33/100\n",
      "8/8 [==============================] - 19s 2s/step - loss: 0.4211 - accuracy: 0.8242 - val_loss: 1.0009 - val_accuracy: 0.6367\n",
      "Epoch 34/100\n",
      "8/8 [==============================] - 22s 3s/step - loss: 0.3253 - accuracy: 0.8584 - val_loss: 1.0254 - val_accuracy: 0.6719\n",
      "Epoch 35/100\n",
      "8/8 [==============================] - 18s 2s/step - loss: 0.5019 - accuracy: 0.7931 - val_loss: 1.5848 - val_accuracy: 0.5234\n",
      "Epoch 36/100\n",
      "8/8 [==============================] - 22s 3s/step - loss: 0.3312 - accuracy: 0.8633 - val_loss: 1.2525 - val_accuracy: 0.6172\n",
      "Epoch 37/100\n",
      "8/8 [==============================] - 18s 2s/step - loss: 0.4048 - accuracy: 0.8131 - val_loss: 1.1824 - val_accuracy: 0.6211\n",
      "Epoch 38/100\n",
      "8/8 [==============================] - 19s 2s/step - loss: 0.3492 - accuracy: 0.8476 - val_loss: 1.2512 - val_accuracy: 0.6172\n",
      "Epoch 39/100\n",
      "8/8 [==============================] - 19s 2s/step - loss: 0.3146 - accuracy: 0.8598 - val_loss: 1.4288 - val_accuracy: 0.5977\n",
      "Epoch 40/100\n",
      "8/8 [==============================] - 19s 2s/step - loss: 0.3757 - accuracy: 0.8265 - val_loss: 1.2909 - val_accuracy: 0.6172\n",
      "Epoch 41/100\n",
      "8/8 [==============================] - 19s 2s/step - loss: 0.4273 - accuracy: 0.8432 - val_loss: 1.3707 - val_accuracy: 0.5703\n",
      "Epoch 42/100\n",
      "8/8 [==============================] - 19s 2s/step - loss: 0.2884 - accuracy: 0.8843 - val_loss: 1.2046 - val_accuracy: 0.6523\n",
      "Epoch 43/100\n",
      "8/8 [==============================] - 19s 2s/step - loss: 0.3048 - accuracy: 0.8676 - val_loss: 1.6339 - val_accuracy: 0.5898\n",
      "Epoch 44/100\n",
      "8/8 [==============================] - 19s 2s/step - loss: 0.3708 - accuracy: 0.8365 - val_loss: 1.5985 - val_accuracy: 0.5820\n",
      "Epoch 45/100\n",
      "8/8 [==============================] - 19s 2s/step - loss: 0.4031 - accuracy: 0.8298 - val_loss: 1.3642 - val_accuracy: 0.6133\n",
      "Epoch 46/100\n",
      "8/8 [==============================] - 19s 2s/step - loss: 0.2612 - accuracy: 0.8743 - val_loss: 1.3828 - val_accuracy: 0.6523\n",
      "Epoch 47/100\n",
      "8/8 [==============================] - 19s 2s/step - loss: 0.3253 - accuracy: 0.8598 - val_loss: 1.2044 - val_accuracy: 0.6680\n",
      "Epoch 48/100\n",
      "8/8 [==============================] - 19s 2s/step - loss: 0.2841 - accuracy: 0.8943 - val_loss: 2.8484 - val_accuracy: 0.5000\n",
      "Epoch 49/100\n",
      "8/8 [==============================] - 19s 2s/step - loss: 0.3499 - accuracy: 0.8432 - val_loss: 1.4849 - val_accuracy: 0.6328\n",
      "Epoch 50/100\n",
      "8/8 [==============================] - 20s 2s/step - loss: 0.3302 - accuracy: 0.8509 - val_loss: 1.7105 - val_accuracy: 0.5703\n",
      "Epoch 51/100\n",
      "8/8 [==============================] - 21s 3s/step - loss: 0.2986 - accuracy: 0.8760 - val_loss: 1.3347 - val_accuracy: 0.6328\n",
      "Epoch 52/100\n",
      "8/8 [==============================] - 17s 2s/step - loss: 0.2617 - accuracy: 0.8765 - val_loss: 1.5104 - val_accuracy: 0.6328\n",
      "Epoch 53/100\n",
      "8/8 [==============================] - 19s 2s/step - loss: 0.3021 - accuracy: 0.8521 - val_loss: 1.7850 - val_accuracy: 0.5742\n",
      "Epoch 54/100\n",
      "8/8 [==============================] - 19s 2s/step - loss: 0.3452 - accuracy: 0.8454 - val_loss: 1.4134 - val_accuracy: 0.6406\n",
      "Epoch 55/100\n",
      "8/8 [==============================] - 19s 2s/step - loss: 0.4179 - accuracy: 0.8565 - val_loss: 1.5711 - val_accuracy: 0.5977\n",
      "Epoch 56/100\n",
      "8/8 [==============================] - 19s 2s/step - loss: 0.2251 - accuracy: 0.9032 - val_loss: 1.8171 - val_accuracy: 0.5977\n",
      "Epoch 57/100\n",
      "8/8 [==============================] - 21s 3s/step - loss: 0.2163 - accuracy: 0.9131 - val_loss: 1.4830 - val_accuracy: 0.6562\n",
      "Epoch 58/100\n"
     ]
    },
    {
     "name": "stdout",
     "output_type": "stream",
     "text": [
      "8/8 [==============================] - 17s 2s/step - loss: 0.2555 - accuracy: 0.8832 - val_loss: 1.6451 - val_accuracy: 0.6406\n",
      "Epoch 59/100\n",
      "8/8 [==============================] - 23s 3s/step - loss: 0.2571 - accuracy: 0.8665 - val_loss: 3.0989 - val_accuracy: 0.5078\n",
      "Epoch 60/100\n",
      "8/8 [==============================] - 23s 3s/step - loss: 0.3209 - accuracy: 0.8532 - val_loss: 1.4178 - val_accuracy: 0.6484\n",
      "Epoch 61/100\n",
      "8/8 [==============================] - 19s 2s/step - loss: 0.3085 - accuracy: 0.8832 - val_loss: 2.0292 - val_accuracy: 0.5664\n",
      "Epoch 62/100\n",
      "8/8 [==============================] - 19s 2s/step - loss: 0.2159 - accuracy: 0.9032 - val_loss: 1.8944 - val_accuracy: 0.6055\n",
      "Epoch 63/100\n",
      "8/8 [==============================] - 20s 2s/step - loss: 0.2339 - accuracy: 0.8888 - val_loss: 2.0189 - val_accuracy: 0.5703\n",
      "Epoch 64/100\n",
      "8/8 [==============================] - 20s 3s/step - loss: 0.2234 - accuracy: 0.9088 - val_loss: 1.9124 - val_accuracy: 0.5977\n",
      "Epoch 65/100\n",
      "8/8 [==============================] - 19s 2s/step - loss: 0.3029 - accuracy: 0.8765 - val_loss: 1.9430 - val_accuracy: 0.5977\n",
      "Epoch 66/100\n",
      "8/8 [==============================] - 19s 2s/step - loss: 0.2623 - accuracy: 0.8943 - val_loss: 1.6876 - val_accuracy: 0.6211\n",
      "Epoch 67/100\n",
      "8/8 [==============================] - 19s 2s/step - loss: 0.2447 - accuracy: 0.8943 - val_loss: 1.7852 - val_accuracy: 0.6172\n",
      "Epoch 68/100\n",
      "8/8 [==============================] - 19s 2s/step - loss: 0.2338 - accuracy: 0.9043 - val_loss: 2.0201 - val_accuracy: 0.5938\n",
      "Epoch 69/100\n",
      "8/8 [==============================] - 21s 3s/step - loss: 0.2124 - accuracy: 0.9082 - val_loss: 2.1861 - val_accuracy: 0.5625\n",
      "Epoch 70/100\n",
      "8/8 [==============================] - 17s 2s/step - loss: 0.2405 - accuracy: 0.8988 - val_loss: 2.0464 - val_accuracy: 0.6055\n",
      "Epoch 71/100\n",
      "8/8 [==============================] - 19s 2s/step - loss: 0.1854 - accuracy: 0.9333 - val_loss: 4.0360 - val_accuracy: 0.5000\n",
      "Epoch 72/100\n",
      "8/8 [==============================] - 19s 2s/step - loss: 0.2509 - accuracy: 0.8999 - val_loss: 1.9254 - val_accuracy: 0.6289\n",
      "Epoch 73/100\n",
      "8/8 [==============================] - 19s 2s/step - loss: 0.1994 - accuracy: 0.9121 - val_loss: 1.8987 - val_accuracy: 0.6211\n",
      "Epoch 74/100\n",
      "8/8 [==============================] - 19s 2s/step - loss: 0.2673 - accuracy: 0.8966 - val_loss: 1.8319 - val_accuracy: 0.6172\n",
      "Epoch 75/100\n",
      "8/8 [==============================] - 19s 2s/step - loss: 0.1838 - accuracy: 0.9366 - val_loss: 2.9957 - val_accuracy: 0.5078\n",
      "Epoch 76/100\n",
      "8/8 [==============================] - 19s 2s/step - loss: 0.2458 - accuracy: 0.8788 - val_loss: 2.4442 - val_accuracy: 0.5742\n",
      "Epoch 77/100\n",
      "8/8 [==============================] - 19s 2s/step - loss: 0.2347 - accuracy: 0.9055 - val_loss: 2.1904 - val_accuracy: 0.6094\n",
      "Epoch 78/100\n",
      "8/8 [==============================] - 19s 2s/step - loss: 0.1867 - accuracy: 0.9166 - val_loss: 2.7347 - val_accuracy: 0.5586\n",
      "Epoch 79/100\n",
      "8/8 [==============================] - 19s 2s/step - loss: 0.2073 - accuracy: 0.9077 - val_loss: 1.8979 - val_accuracy: 0.6211\n",
      "Epoch 80/100\n",
      "8/8 [==============================] - 19s 2s/step - loss: 0.2308 - accuracy: 0.9077 - val_loss: 2.2802 - val_accuracy: 0.5977\n",
      "Epoch 81/100\n",
      "8/8 [==============================] - 19s 2s/step - loss: 0.2360 - accuracy: 0.9032 - val_loss: 2.3501 - val_accuracy: 0.5898\n",
      "Epoch 82/100\n",
      "8/8 [==============================] - 19s 2s/step - loss: 0.1907 - accuracy: 0.9244 - val_loss: 4.0057 - val_accuracy: 0.5000\n",
      "Epoch 83/100\n",
      "8/8 [==============================] - 19s 2s/step - loss: 0.2007 - accuracy: 0.9132 - val_loss: 2.9232 - val_accuracy: 0.5664\n",
      "Epoch 84/100\n",
      "8/8 [==============================] - 19s 2s/step - loss: 0.2378 - accuracy: 0.8899 - val_loss: 1.8119 - val_accuracy: 0.6289\n",
      "Epoch 85/100\n",
      "8/8 [==============================] - 19s 2s/step - loss: 0.1897 - accuracy: 0.9255 - val_loss: 2.8502 - val_accuracy: 0.5586\n",
      "Epoch 86/100\n",
      "8/8 [==============================] - 19s 2s/step - loss: 0.1897 - accuracy: 0.9155 - val_loss: 2.8636 - val_accuracy: 0.5391\n",
      "Epoch 87/100\n",
      "8/8 [==============================] - 21s 3s/step - loss: 0.2061 - accuracy: 0.9082 - val_loss: 1.6123 - val_accuracy: 0.6562\n",
      "Epoch 88/100\n",
      "8/8 [==============================] - 17s 2s/step - loss: 0.1496 - accuracy: 0.9288 - val_loss: 3.5540 - val_accuracy: 0.5195\n",
      "Epoch 89/100\n",
      "8/8 [==============================] - 19s 2s/step - loss: 0.2355 - accuracy: 0.9110 - val_loss: 2.7736 - val_accuracy: 0.5742\n",
      "Epoch 90/100\n",
      "8/8 [==============================] - 19s 2s/step - loss: 0.1568 - accuracy: 0.9522 - val_loss: 4.5991 - val_accuracy: 0.5000\n",
      "Epoch 91/100\n",
      "8/8 [==============================] - 19s 2s/step - loss: 0.2168 - accuracy: 0.9032 - val_loss: 2.9615 - val_accuracy: 0.5625\n",
      "Epoch 92/100\n",
      "8/8 [==============================] - 19s 2s/step - loss: 0.1831 - accuracy: 0.9143 - val_loss: 2.2818 - val_accuracy: 0.6055\n",
      "Epoch 93/100\n",
      "8/8 [==============================] - 19s 2s/step - loss: 0.1993 - accuracy: 0.9088 - val_loss: 2.0007 - val_accuracy: 0.6328\n",
      "Epoch 94/100\n",
      "8/8 [==============================] - 19s 2s/step - loss: 0.1536 - accuracy: 0.9266 - val_loss: 1.4530 - val_accuracy: 0.6953\n",
      "Epoch 95/100\n",
      "8/8 [==============================] - 19s 2s/step - loss: 0.1430 - accuracy: 0.9333 - val_loss: 2.0687 - val_accuracy: 0.6289\n",
      "Epoch 96/100\n",
      "8/8 [==============================] - 19s 2s/step - loss: 0.2354 - accuracy: 0.8954 - val_loss: 2.8424 - val_accuracy: 0.5391\n",
      "Epoch 97/100\n",
      "8/8 [==============================] - 21s 3s/step - loss: 0.1465 - accuracy: 0.9492 - val_loss: 2.6759 - val_accuracy: 0.5820\n",
      "Epoch 98/100\n",
      "8/8 [==============================] - 17s 2s/step - loss: 0.2005 - accuracy: 0.9199 - val_loss: 2.4415 - val_accuracy: 0.5859\n",
      "Epoch 99/100\n",
      "8/8 [==============================] - 19s 2s/step - loss: 0.1969 - accuracy: 0.9232 - val_loss: 2.0751 - val_accuracy: 0.6055\n",
      "Epoch 100/100\n",
      "8/8 [==============================] - 19s 2s/step - loss: 0.1601 - accuracy: 0.9277 - val_loss: 2.0906 - val_accuracy: 0.6133\n"
     ]
    }
   ],
   "source": [
    "history = model.fit(\n",
    "      train_generator,\n",
    "      steps_per_epoch=8,  \n",
    "      epochs=100,\n",
    "      verbose=1,\n",
    "      validation_data = validation_generator,\n",
    "      validation_steps=8)"
   ]
  },
  {
   "cell_type": "code",
   "execution_count": 0,
   "metadata": {
    "colab": {},
    "colab_type": "code",
    "id": "7zNPRWOVJdOH"
   },
   "outputs": [],
   "source": [
    "import matplotlib.pyplot as plt\n",
    "acc = history.history['accuracy']\n",
    "val_acc = history.history['val_accuracy']\n",
    "loss = history.history['loss']\n",
    "val_loss = history.history['val_loss']\n",
    "\n",
    "epochs = range(len(acc))\n",
    "\n",
    "plt.plot(epochs, acc, 'r', label='Training accuracy')\n",
    "plt.plot(epochs, val_acc, 'b', label='Validation accuracy')\n",
    "plt.title('Training and validation accuracy')\n",
    "\n",
    "plt.figure()\n",
    "\n",
    "plt.plot(epochs, loss, 'r', label='Training Loss')\n",
    "plt.plot(epochs, val_loss, 'b', label='Validation Loss')\n",
    "plt.title('Training and validation loss')\n",
    "plt.legend()\n",
    "\n",
    "plt.show()"
   ]
  }
 ],
 "metadata": {
  "accelerator": "GPU",
  "colab": {
   "collapsed_sections": [],
   "include_colab_link": true,
   "name": "Course 2 - Part 4 - Lesson 4 - Notebook.ipynb",
   "provenance": [],
   "toc_visible": true
  },
  "kernelspec": {
   "display_name": "Python 3",
   "language": "python",
   "name": "python3"
  },
  "language_info": {
   "codemirror_mode": {
    "name": "ipython",
    "version": 3
   },
   "file_extension": ".py",
   "mimetype": "text/x-python",
   "name": "python",
   "nbconvert_exporter": "python",
   "pygments_lexer": "ipython3",
   "version": "3.7.7"
  }
 },
 "nbformat": 4,
 "nbformat_minor": 1
}
